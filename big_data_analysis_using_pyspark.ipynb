{
  "nbformat": 4,
  "nbformat_minor": 0,
  "metadata": {
    "colab": {
      "provenance": [],
      "authorship_tag": "ABX9TyPCdaVG7U87RfVUPBeQb8Tp",
      "include_colab_link": true
    },
    "kernelspec": {
      "name": "python3",
      "display_name": "Python 3"
    },
    "language_info": {
      "name": "python"
    }
  },
  "cells": [
    {
      "cell_type": "markdown",
      "metadata": {
        "id": "view-in-github",
        "colab_type": "text"
      },
      "source": [
        "<a href=\"https://colab.research.google.com/github/rishi-analytics/big-data-analysis-using-pyspark/blob/main/big_data_analysis_using_pyspark.ipynb\" target=\"_parent\"><img src=\"https://colab.research.google.com/assets/colab-badge.svg\" alt=\"Open In Colab\"/></a>"
      ]
    },
    {
      "cell_type": "markdown",
      "source": [
        "# **Data Analysis Using PySpark**\n",
        "This project is a guided hands-on data analysis exercise using PySpark, executed on Google Colab. The objective is to perform exploratory data analysis (EDA) and basic transformations on large datasets using distributed computing.\n"
      ],
      "metadata": {
        "id": "Ar3YEWfOprKK"
      }
    },
    {
      "cell_type": "markdown",
      "source": [
        "##Mounting Google Drive for accessing files for this project"
      ],
      "metadata": {
        "id": "dDkL6oZSqpDV"
      }
    },
    {
      "cell_type": "code",
      "execution_count": 2,
      "metadata": {
        "id": "RammzNf9QycM",
        "colab": {
          "base_uri": "https://localhost:8080/"
        },
        "outputId": "20f8c4a3-c52c-462a-94d0-71efccdef032"
      },
      "outputs": [
        {
          "output_type": "stream",
          "name": "stdout",
          "text": [
            "Drive already mounted at /content/drive; to attempt to forcibly remount, call drive.mount(\"/content/drive\", force_remount=True).\n"
          ]
        }
      ],
      "source": [
        "from google.colab import drive\n",
        "drive.mount('/content/drive')"
      ]
    },
    {
      "cell_type": "markdown",
      "source": [
        "## **Task 1**\n",
        "Installing PySpark, Importing Modules and creating spark session"
      ],
      "metadata": {
        "id": "EjdSmH0eqz0Z"
      }
    },
    {
      "cell_type": "code",
      "source": [
        "!pip install pyspark"
      ],
      "metadata": {
        "colab": {
          "base_uri": "https://localhost:8080/"
        },
        "id": "T4c71xsju2O-",
        "outputId": "390c47dd-30b2-4777-f5f7-2b634105fbf0"
      },
      "execution_count": 3,
      "outputs": [
        {
          "output_type": "stream",
          "name": "stdout",
          "text": [
            "Requirement already satisfied: pyspark in /usr/local/lib/python3.11/dist-packages (3.5.1)\n",
            "Requirement already satisfied: py4j==0.10.9.7 in /usr/local/lib/python3.11/dist-packages (from pyspark) (0.10.9.7)\n"
          ]
        }
      ]
    },
    {
      "cell_type": "code",
      "source": [
        "!java -version"
      ],
      "metadata": {
        "colab": {
          "base_uri": "https://localhost:8080/"
        },
        "id": "T5EXn5FHqzOn",
        "outputId": "1342d571-02dd-4bb2-e72d-b6d5167c8d22"
      },
      "execution_count": 4,
      "outputs": [
        {
          "output_type": "stream",
          "name": "stdout",
          "text": [
            "openjdk version \"11.0.27\" 2025-04-15\n",
            "OpenJDK Runtime Environment (build 11.0.27+6-post-Ubuntu-0ubuntu122.04)\n",
            "OpenJDK 64-Bit Server VM (build 11.0.27+6-post-Ubuntu-0ubuntu122.04, mixed mode, sharing)\n"
          ]
        }
      ]
    },
    {
      "cell_type": "code",
      "source": [
        "from pyspark.sql import SparkSession\n",
        "from pyspark.sql.functions import col, count, desc, max, struct\n",
        "from matplotlib import pyplot as plt"
      ],
      "metadata": {
        "id": "UBRd65uNuFGw"
      },
      "execution_count": 5,
      "outputs": []
    },
    {
      "cell_type": "markdown",
      "source": [
        "**Initializing Spark Session**\n",
        "\n",
        "The `SparkSession` is the main entry point for working with Spark using the DataFrame API.\n",
        "\n",
        "The line below creates a Spark session named \"PySparkProject\". If a session already exists, it returns that session; otherwise, it starts a new one. This session manages the connection to the Spark engine and is required to perform any data processing operations.\n",
        "\n",
        "```python\n",
        "spark = SparkSession.builder.appName(\"PySparkProject\").getOrCreate()\n"
      ],
      "metadata": {
        "id": "kx_bgZLKvYdL"
      }
    },
    {
      "cell_type": "code",
      "source": [
        "spark = SparkSession.builder.appName(\"PySparkProject\").getOrCreate()"
      ],
      "metadata": {
        "id": "zYt-3-LFvdpr"
      },
      "execution_count": 6,
      "outputs": []
    },
    {
      "cell_type": "markdown",
      "source": [],
      "metadata": {
        "id": "KnCU-UffwEuY"
      }
    },
    {
      "cell_type": "markdown",
      "source": [
        "## **Task 2: Load and Explore Data**\n",
        "Loaded `listenings.csv` (13M+ rows), inspected schema and samples, dropped `date` column, removed nulls, and verified cleaned dataset size.\n"
      ],
      "metadata": {
        "id": "XnyMiUAMtU88"
      }
    },
    {
      "cell_type": "code",
      "source": [
        "file_path = \"/content/drive/MyDrive/dataset/listenings.csv\"\n",
        "\n",
        "df = spark.read.csv(file_path, header=True, inferSchema=True)\n",
        "\n",
        "# Show first 5 rows\n",
        "df.show(5)\n",
        "\n",
        "# Print schema to see column names and data types\n",
        "df.printSchema()"
      ],
      "metadata": {
        "colab": {
          "base_uri": "https://localhost:8080/"
        },
        "id": "qougLDAcxm9g",
        "outputId": "0016fdb8-8864-447e-dde8-53e296d320a5"
      },
      "execution_count": 7,
      "outputs": [
        {
          "output_type": "stream",
          "name": "stdout",
          "text": [
            "+-----------+-------------+--------------------+---------+-----------------+\n",
            "|    user_id|         date|               track|   artist|            album|\n",
            "+-----------+-------------+--------------------+---------+-----------------+\n",
            "|000Silenced|1299680100000|           Price Tag| Jessie J|      Who You Are|\n",
            "|000Silenced|1299679920000|Price Tag (Acoust...| Jessie J|        Price Tag|\n",
            "|000Silenced|1299679440000|Be Mine! (Ballad ...|    Robyn|         Be Mine!|\n",
            "|000Silenced|1299679200000|            Acapella|    Kelis|         Acapella|\n",
            "|000Silenced|1299675660000|   I'm Not Invisible|The Tease|I'm Not Invisible|\n",
            "+-----------+-------------+--------------------+---------+-----------------+\n",
            "only showing top 5 rows\n",
            "\n",
            "root\n",
            " |-- user_id: string (nullable = true)\n",
            " |-- date: long (nullable = true)\n",
            " |-- track: string (nullable = true)\n",
            " |-- artist: string (nullable = true)\n",
            " |-- album: string (nullable = true)\n",
            "\n"
          ]
        }
      ]
    },
    {
      "cell_type": "code",
      "source": [
        "df.show()"
      ],
      "metadata": {
        "colab": {
          "base_uri": "https://localhost:8080/"
        },
        "id": "xHsEEzItykaY",
        "outputId": "e32dade8-9875-4fb7-c286-ba7e0e6ddc25"
      },
      "execution_count": 8,
      "outputs": [
        {
          "output_type": "stream",
          "name": "stdout",
          "text": [
            "+-----------+-------------+--------------------+---------------+--------------------+\n",
            "|    user_id|         date|               track|         artist|               album|\n",
            "+-----------+-------------+--------------------+---------------+--------------------+\n",
            "|000Silenced|1299680100000|           Price Tag|       Jessie J|         Who You Are|\n",
            "|000Silenced|1299679920000|Price Tag (Acoust...|       Jessie J|           Price Tag|\n",
            "|000Silenced|1299679440000|Be Mine! (Ballad ...|          Robyn|            Be Mine!|\n",
            "|000Silenced|1299679200000|            Acapella|          Kelis|            Acapella|\n",
            "|000Silenced|1299675660000|   I'm Not Invisible|      The Tease|   I'm Not Invisible|\n",
            "|000Silenced|1297511400000|Bounce (Feat NORE...|       MSTRKRFT|         Fist of God|\n",
            "|000Silenced|1294498440000|Don't Stop The Mu...|        Rihanna|Addicted 2 Bassli...|\n",
            "|000Silenced|1292438340000|               ObZen|      Meshuggah|               ObZen|\n",
            "|000Silenced|1292437740000|   Yama's Messengers|         Gojira|The Way of All Flesh|\n",
            "|000Silenced|1292436360000|On the Brink of E...|   Napalm Death|Time Waits For No...|\n",
            "|000Silenced|1292436360000|On the Brink of E...|   Napalm Death|Time Waits For No...|\n",
            "|000Silenced|1292435940000|        In Deference|   Napalm Death|      Smear Campaign|\n",
            "|000Silenced|1292434920000|      Post(?)organic|    Decapitated|Organic Hallucinosis|\n",
            "|000Silenced|1292434560000|        Mind Feeders|   Dom & Roland| No Strings Attached|\n",
            "|000Silenced|1292434320000|Necrosadistic War...|Cannibal Corpse|                Kill|\n",
            "|000Silenced|1292365560000|     Dance All Night|   Dom & Roland|          Chronology|\n",
            "|000Silenced|1292365260000|          Late Night|   Dom & Roland|          Chronology|\n",
            "|000Silenced|1292365020000|          Freak Seen|   Dom & Roland|          Chronology|\n",
            "|000Silenced|1292364720000|Paradrenasite (Hi...|   Dom & Roland|          Chronology|\n",
            "|000Silenced|1292364300000|               Rhino|   Dom & Roland|          Chronology|\n",
            "+-----------+-------------+--------------------+---------------+--------------------+\n",
            "only showing top 20 rows\n",
            "\n"
          ]
        }
      ]
    },
    {
      "cell_type": "code",
      "source": [
        "from pyspark.sql.functions import col, sum\n",
        "\n",
        "df.select([sum(col(c).isNull().cast(\"int\")).alias(c) for c in df.columns]).show()"
      ],
      "metadata": {
        "colab": {
          "base_uri": "https://localhost:8080/"
        },
        "id": "UvVPuGu9QNn8",
        "outputId": "1bdb1cfc-6f38-4f4d-cc18-b6c9789c8a92"
      },
      "execution_count": 9,
      "outputs": [
        {
          "output_type": "stream",
          "name": "stdout",
          "text": [
            "+-------+----+-----+------+------+\n",
            "|user_id|date|track|artist| album|\n",
            "+-------+----+-----+------+------+\n",
            "|      0|   0|  230|   435|891137|\n",
            "+-------+----+-----+------+------+\n",
            "\n"
          ]
        }
      ]
    },
    {
      "cell_type": "markdown",
      "source": [
        "=> so now we see there's quite few null values in the dataset"
      ],
      "metadata": {
        "id": "OKHUjlPyR2g0"
      }
    },
    {
      "cell_type": "markdown",
      "source": [
        "##Deleting the 'date' variable\n",
        "\n",
        "as it's not required and also dropping the null values"
      ],
      "metadata": {
        "id": "m5BzfYi_G9PC"
      }
    },
    {
      "cell_type": "markdown",
      "source": [
        "Note: Operating these steps in a separate dataframe, as it's a good practice in data analysis, especially if there's a need to check the original dfdf"
      ],
      "metadata": {
        "id": "GD5mg8TRYWfq"
      }
    },
    {
      "cell_type": "code",
      "source": [
        "# Step 1: Drop the 'date' column\n",
        "df_dropped_date = df.drop(\"date\")\n",
        "\n",
        "# Step 2: Drop rows with any null values\n",
        "df_cleaned = df_dropped_date.dropna()"
      ],
      "metadata": {
        "id": "3AE6V38zX7jQ"
      },
      "execution_count": 10,
      "outputs": []
    },
    {
      "cell_type": "markdown",
      "source": [
        "## Dropping Null Rows and Unused Columns\n",
        "\n",
        "Dropped the `date` column from the dataset, as it was not required for analysis.\n",
        "\n",
        "Removed all rows containing any null values using `dropna()`. This ensures the remaining dataset includes only complete records across the `user_id`, `track`, `artist`, and `album` columns."
      ],
      "metadata": {
        "id": "k9yOn381YMbd"
      }
    },
    {
      "cell_type": "markdown",
      "source": [
        "Now let's check the dataframe"
      ],
      "metadata": {
        "id": "0mWBS9X2YSty"
      }
    },
    {
      "cell_type": "code",
      "source": [
        "df_cleaned.show()"
      ],
      "metadata": {
        "colab": {
          "base_uri": "https://localhost:8080/"
        },
        "id": "sTMBgnyCXH4g",
        "outputId": "88999bb7-f96c-4973-cd37-a966450a5bdb"
      },
      "execution_count": 11,
      "outputs": [
        {
          "output_type": "stream",
          "name": "stdout",
          "text": [
            "+-----------+--------------------+---------------+--------------------+\n",
            "|    user_id|               track|         artist|               album|\n",
            "+-----------+--------------------+---------------+--------------------+\n",
            "|000Silenced|           Price Tag|       Jessie J|         Who You Are|\n",
            "|000Silenced|Price Tag (Acoust...|       Jessie J|           Price Tag|\n",
            "|000Silenced|Be Mine! (Ballad ...|          Robyn|            Be Mine!|\n",
            "|000Silenced|            Acapella|          Kelis|            Acapella|\n",
            "|000Silenced|   I'm Not Invisible|      The Tease|   I'm Not Invisible|\n",
            "|000Silenced|Bounce (Feat NORE...|       MSTRKRFT|         Fist of God|\n",
            "|000Silenced|Don't Stop The Mu...|        Rihanna|Addicted 2 Bassli...|\n",
            "|000Silenced|               ObZen|      Meshuggah|               ObZen|\n",
            "|000Silenced|   Yama's Messengers|         Gojira|The Way of All Flesh|\n",
            "|000Silenced|On the Brink of E...|   Napalm Death|Time Waits For No...|\n",
            "|000Silenced|On the Brink of E...|   Napalm Death|Time Waits For No...|\n",
            "|000Silenced|        In Deference|   Napalm Death|      Smear Campaign|\n",
            "|000Silenced|      Post(?)organic|    Decapitated|Organic Hallucinosis|\n",
            "|000Silenced|        Mind Feeders|   Dom & Roland| No Strings Attached|\n",
            "|000Silenced|Necrosadistic War...|Cannibal Corpse|                Kill|\n",
            "|000Silenced|     Dance All Night|   Dom & Roland|          Chronology|\n",
            "|000Silenced|          Late Night|   Dom & Roland|          Chronology|\n",
            "|000Silenced|          Freak Seen|   Dom & Roland|          Chronology|\n",
            "|000Silenced|Paradrenasite (Hi...|   Dom & Roland|          Chronology|\n",
            "|000Silenced|               Rhino|   Dom & Roland|          Chronology|\n",
            "+-----------+--------------------+---------------+--------------------+\n",
            "only showing top 20 rows\n",
            "\n"
          ]
        }
      ]
    },
    {
      "cell_type": "markdown",
      "source": [
        "Now let's check the dataset again"
      ],
      "metadata": {
        "id": "kMkPLhQMHV0f"
      }
    },
    {
      "cell_type": "code",
      "source": [
        "from pyspark.sql.functions import col, sum\n",
        "\n",
        "df_cleaned.select([\n",
        "    sum(col(c).isNull().cast(\"int\")).alias(c)\n",
        "    for c in df_cleaned.columns\n",
        "]).show()"
      ],
      "metadata": {
        "colab": {
          "base_uri": "https://localhost:8080/"
        },
        "id": "HFk4Qju6HiBI",
        "outputId": "802ec1a9-b2d4-4c34-d438-cf6d28fe4fdf"
      },
      "execution_count": 12,
      "outputs": [
        {
          "output_type": "stream",
          "name": "stdout",
          "text": [
            "+-------+-----+------+-----+\n",
            "|user_id|track|artist|album|\n",
            "+-------+-----+------+-----+\n",
            "|      0|    0|     0|    0|\n",
            "+-------+-----+------+-----+\n",
            "\n"
          ]
        }
      ]
    },
    {
      "cell_type": "code",
      "source": [
        "df_cleaned.count()"
      ],
      "metadata": {
        "colab": {
          "base_uri": "https://localhost:8080/"
        },
        "id": "9pegV4tobsbi",
        "outputId": "003dfabd-f537-4cd3-b186-58e3a1f673b3"
      },
      "execution_count": 13,
      "outputs": [
        {
          "output_type": "execute_result",
          "data": {
            "text/plain": [
              "13758905"
            ]
          },
          "metadata": {},
          "execution_count": 13
        }
      ]
    },
    {
      "cell_type": "markdown",
      "source": [
        "**So the dataset I am working with has around 13 million rows**"
      ],
      "metadata": {
        "id": "qUy-p4g0kwjn"
      }
    },
    {
      "cell_type": "code",
      "source": [
        "df_cleaned.columns"
      ],
      "metadata": {
        "colab": {
          "base_uri": "https://localhost:8080/"
        },
        "id": "50GdQLq-cDqd",
        "outputId": "e05de7aa-b24e-41c7-8cf1-5429d46a321f"
      },
      "execution_count": 14,
      "outputs": [
        {
          "output_type": "execute_result",
          "data": {
            "text/plain": [
              "['user_id', 'track', 'artist', 'album']"
            ]
          },
          "metadata": {},
          "execution_count": 14
        }
      ]
    },
    {
      "cell_type": "code",
      "source": [
        "len(df_cleaned.columns)"
      ],
      "metadata": {
        "colab": {
          "base_uri": "https://localhost:8080/"
        },
        "id": "KmkBbO4ucVCs",
        "outputId": "8248e23f-6dac-4750-93ee-215f0e4a2c20"
      },
      "execution_count": 15,
      "outputs": [
        {
          "output_type": "execute_result",
          "data": {
            "text/plain": [
              "4"
            ]
          },
          "metadata": {},
          "execution_count": 15
        }
      ]
    },
    {
      "cell_type": "code",
      "source": [
        "df_cleaned.printSchema()\n"
      ],
      "metadata": {
        "colab": {
          "base_uri": "https://localhost:8080/"
        },
        "id": "0e2ajsiVd1m_",
        "outputId": "cb5fed3b-20d5-463a-b027-74b8ecabaab2"
      },
      "execution_count": 16,
      "outputs": [
        {
          "output_type": "stream",
          "name": "stdout",
          "text": [
            "root\n",
            " |-- user_id: string (nullable = true)\n",
            " |-- track: string (nullable = true)\n",
            " |-- artist: string (nullable = true)\n",
            " |-- album: string (nullable = true)\n",
            "\n"
          ]
        }
      ]
    },
    {
      "cell_type": "markdown",
      "source": [
        "## Dataset Overview\n",
        "\n",
        "- **Row count:** `df_cleaned.count()` returns the total number of rows in the DataFrame.\n",
        "- **Column count:** `len(df_cleaned.columns)` gives the number of columns.\n",
        "- **Column names:** `df_cleaned.columns` lists all column names.\n",
        "- **Schema:** `df_cleaned.printSchema()` displays each column’s name, data type, and nullability, which helps understand the dataset structure.\n"
      ],
      "metadata": {
        "id": "574sJStdePK-"
      }
    },
    {
      "cell_type": "markdown",
      "source": [
        "## **Task 3**\n",
        "\n",
        "Now it's time to execute some queries to the dataset"
      ],
      "metadata": {
        "id": "Hkq9u9R5hNk5"
      }
    },
    {
      "cell_type": "markdown",
      "source": [
        "###**Query 0**\n",
        "Select two columns two columns i.e., track and artist"
      ],
      "metadata": {
        "id": "Ucx9y7z1hoct"
      }
    },
    {
      "cell_type": "code",
      "source": [
        "q0 = df_cleaned.select('track',  'artist')\n",
        "q0.show()"
      ],
      "metadata": {
        "colab": {
          "base_uri": "https://localhost:8080/"
        },
        "id": "eEXaAe8ph3pz",
        "outputId": "1568d277-98b6-4c67-e3d7-e25138235ee5"
      },
      "execution_count": 17,
      "outputs": [
        {
          "output_type": "stream",
          "name": "stdout",
          "text": [
            "+--------------------+---------------+\n",
            "|               track|         artist|\n",
            "+--------------------+---------------+\n",
            "|           Price Tag|       Jessie J|\n",
            "|Price Tag (Acoust...|       Jessie J|\n",
            "|Be Mine! (Ballad ...|          Robyn|\n",
            "|            Acapella|          Kelis|\n",
            "|   I'm Not Invisible|      The Tease|\n",
            "|Bounce (Feat NORE...|       MSTRKRFT|\n",
            "|Don't Stop The Mu...|        Rihanna|\n",
            "|               ObZen|      Meshuggah|\n",
            "|   Yama's Messengers|         Gojira|\n",
            "|On the Brink of E...|   Napalm Death|\n",
            "|On the Brink of E...|   Napalm Death|\n",
            "|        In Deference|   Napalm Death|\n",
            "|      Post(?)organic|    Decapitated|\n",
            "|        Mind Feeders|   Dom & Roland|\n",
            "|Necrosadistic War...|Cannibal Corpse|\n",
            "|     Dance All Night|   Dom & Roland|\n",
            "|          Late Night|   Dom & Roland|\n",
            "|          Freak Seen|   Dom & Roland|\n",
            "|Paradrenasite (Hi...|   Dom & Roland|\n",
            "|               Rhino|   Dom & Roland|\n",
            "+--------------------+---------------+\n",
            "only showing top 20 rows\n",
            "\n"
          ]
        }
      ]
    },
    {
      "cell_type": "markdown",
      "source": [
        "###**Query 1**\n",
        "Let's find all of the records of those users who have listened to Rihanna"
      ],
      "metadata": {
        "id": "BDxhVFknhYgY"
      }
    },
    {
      "cell_type": "code",
      "source": [
        "q1 = df_cleaned.select('*').filter(df_cleaned.artist == 'Rihanna')\n",
        "q1.show()"
      ],
      "metadata": {
        "colab": {
          "base_uri": "https://localhost:8080/"
        },
        "id": "Fv4dL8llhYB7",
        "outputId": "68889f5b-35c1-4f51-92d8-a05b41f17a8f"
      },
      "execution_count": 18,
      "outputs": [
        {
          "output_type": "stream",
          "name": "stdout",
          "text": [
            "+-----------+--------------------+-------+--------------------+\n",
            "|    user_id|               track| artist|               album|\n",
            "+-----------+--------------------+-------+--------------------+\n",
            "|000Silenced|Don't Stop The Mu...|Rihanna|Addicted 2 Bassli...|\n",
            "|000Silenced|           Disturbia|Rihanna|Good Girl Gone Ba...|\n",
            "|00williamsl|   Hatin On The Club|Rihanna|              Random|\n",
            "|00williamsl|   Hatin On The Club|Rihanna|              Random|\n",
            "|00williamsl|         Complicated|Rihanna|                Loud|\n",
            "|00williamsl|What's My Name (f...|Rihanna|                Loud|\n",
            "|00williamsl|Kanye West feat R...|Rihanna|                Loud|\n",
            "|    0502008|Only Girl (In the...|Rihanna|                Loud|\n",
            "|      0rdos|Pon De Replay (Re...|Rihanna|    Music of the Sun|\n",
            "|      0rdos|          Now I Know|Rihanna|    Music of the Sun|\n",
            "|      0rdos|There's a Thug in...|Rihanna|    Music of the Sun|\n",
            "|      0rdos|                Rush|Rihanna|    Music of the Sun|\n",
            "|      0rdos|              Let Me|Rihanna|    Music of the Sun|\n",
            "|      0rdos|    Music of the Sun|Rihanna|    Music of the Sun|\n",
            "|      0rdos|     Willing to Wait|Rihanna|    Music of the Sun|\n",
            "|      0rdos|       The Last Time|Rihanna|    Music of the Sun|\n",
            "|      0rdos|If It's Lovin' Th...|Rihanna|    Music of the Sun|\n",
            "|      0rdos|     Here I Go Again|Rihanna|    Music of the Sun|\n",
            "|      0rdos|       Pon de Replay|Rihanna|    Music of the Sun|\n",
            "|      0rdos|                 Cry|Rihanna|  Good Girl Gone Bad|\n",
            "+-----------+--------------------+-------+--------------------+\n",
            "only showing top 20 rows\n",
            "\n"
          ]
        }
      ]
    },
    {
      "cell_type": "markdown",
      "source": [
        "Count of users who listened to Rihanna"
      ],
      "metadata": {
        "id": "UYhsdT4smHtc"
      }
    },
    {
      "cell_type": "code",
      "source": [
        "df_cleaned.filter(df_cleaned.artist == \"Rihanna\") \\\n",
        "          .select(\"user_id\") \\\n",
        "          .distinct() \\\n",
        "          .count()"
      ],
      "metadata": {
        "colab": {
          "base_uri": "https://localhost:8080/"
        },
        "id": "y_ViO7lRmEy0",
        "outputId": "8c30ed07-2d13-4cfb-a839-0db7eb6855c6"
      },
      "execution_count": 19,
      "outputs": [
        {
          "output_type": "execute_result",
          "data": {
            "text/plain": [
              "8429"
            ]
          },
          "metadata": {},
          "execution_count": 19
        }
      ]
    },
    {
      "cell_type": "markdown",
      "source": [
        "###**Query 2: Top 10 Rihanna Fans (by Listening Count)**"
      ],
      "metadata": {
        "id": "5X13VAr1oGBm"
      }
    },
    {
      "cell_type": "code",
      "source": [
        "from pyspark.sql.functions import count, desc\n",
        "\n",
        "query2 = df_cleaned.filter(df_cleaned.artist == \"Rihanna\") \\\n",
        "                   .groupBy(\"user_id\") \\\n",
        "                   .agg(count(\"*\").alias(\"listening_count\")) \\\n",
        "                   .orderBy(desc(\"listening_count\")) \\\n",
        "                   .limit(10)\n",
        "\n",
        "query2.show()"
      ],
      "metadata": {
        "colab": {
          "base_uri": "https://localhost:8080/"
        },
        "id": "sBKv5TRPmNrL",
        "outputId": "e826a0ad-b9c9-4290-e543-fd231ab9eb66"
      },
      "execution_count": 20,
      "outputs": [
        {
          "output_type": "stream",
          "name": "stdout",
          "text": [
            "+---------------+---------------+\n",
            "|        user_id|listening_count|\n",
            "+---------------+---------------+\n",
            "|        thiessu|            179|\n",
            "|    eyessetkyle|            166|\n",
            "|           adxx|            164|\n",
            "|missnumberthree|            156|\n",
            "|helloiamnatalie|            128|\n",
            "|          nmjnb|            124|\n",
            "|        AndyyyA|            123|\n",
            "|     BIGBANG186|            121|\n",
            "|     mixedvibes|            120|\n",
            "|       AndyKitt|            115|\n",
            "+---------------+---------------+\n",
            "\n"
          ]
        }
      ]
    },
    {
      "cell_type": "markdown",
      "source": [
        "### **Query 3: Top 10 Most Played Tracks (All Artists)**\n",
        "\n",
        "Grouped the dataset by `track`, counted the total play occurrences, and retrieved the top 10 tracks with the highest play counts across all artists."
      ],
      "metadata": {
        "id": "RaQd3gn8pN0G"
      }
    },
    {
      "cell_type": "code",
      "source": [
        "q3 = df_cleaned.groupBy(\"track\") \\\n",
        "                   .agg(count(\"*\").alias(\"play_count\")) \\\n",
        "                   .orderBy(desc(\"play_count\")) \\\n",
        "                   .limit(10)\n",
        "\n",
        "q3.show()"
      ],
      "metadata": {
        "colab": {
          "base_uri": "https://localhost:8080/"
        },
        "id": "ne0S4BCdpOl5",
        "outputId": "2c7e3861-42c0-4025-c19e-0987e5d09a92"
      },
      "execution_count": 21,
      "outputs": [
        {
          "output_type": "stream",
          "name": "stdout",
          "text": [
            "+-------+----------+\n",
            "|  track|play_count|\n",
            "+-------+----------+\n",
            "|  Intro|     13176|\n",
            "|   Home|      7576|\n",
            "|  Hello|      6961|\n",
            "|Hold On|      5857|\n",
            "|   Work|      4889|\n",
            "|  Sorry|      4824|\n",
            "|   Baby|      4646|\n",
            "|Runaway|      4429|\n",
            "| Closer|      4287|\n",
            "|   Fire|      4141|\n",
            "+-------+----------+\n",
            "\n"
          ]
        }
      ]
    },
    {
      "cell_type": "markdown",
      "source": [
        "### **Query 4: Top 10 Most Played Tracks by Rihanna**\n",
        "\n",
        "Grouped listening data by `track` for artist \"Rihanna\", counted play occurrences, and retrieved the top 10 tracks with highest play counts.*italicised text*"
      ],
      "metadata": {
        "id": "mChSRmWFoQh-"
      }
    },
    {
      "cell_type": "code",
      "source": [
        "q4 = df_cleaned.filter(df_cleaned.artist == \"Rihanna\") \\\n",
        "                   .groupBy(\"track\") \\\n",
        "                   .agg(count(\"*\").alias(\"play_count\")) \\\n",
        "                   .orderBy(desc(\"play_count\")) \\\n",
        "                   .limit(10)\n",
        "\n",
        "q4.show()"
      ],
      "metadata": {
        "colab": {
          "base_uri": "https://localhost:8080/"
        },
        "id": "Gk1n2X7WoSgS",
        "outputId": "cd169490-63fe-4566-cbdb-87ee567054cc"
      },
      "execution_count": 22,
      "outputs": [
        {
          "output_type": "stream",
          "name": "stdout",
          "text": [
            "+--------------------+----------+\n",
            "|               track|play_count|\n",
            "+--------------------+----------+\n",
            "|                Work|      2646|\n",
            "|Only Girl (In the...|      1749|\n",
            "|We Found Love (fe...|      1575|\n",
            "|                 S&M|      1307|\n",
            "|            Rude Boy|      1303|\n",
            "|            Diamonds|      1224|\n",
            "|      Kiss it Better|       945|\n",
            "| Where Have You Been|       844|\n",
            "|Cheers (Drink to ...|       697|\n",
            "|           Desperado|       679|\n",
            "+--------------------+----------+\n",
            "\n"
          ]
        }
      ]
    },
    {
      "cell_type": "markdown",
      "source": [
        "### **Query 5: Top 10 Most Played Albums**\n",
        "Grouped the dataset by `album`, counted total play occurrences, and retrieved the top 10 albums with the highest play counts."
      ],
      "metadata": {
        "id": "L2o81VU1qDm3"
      }
    },
    {
      "cell_type": "code",
      "source": [
        "q5 = df_cleaned.groupBy(\"album\") \\\n",
        "                   .agg(count(\"*\").alias(\"play_count\")) \\\n",
        "                   .orderBy(desc(\"play_count\")) \\\n",
        "                   .limit(10)\n",
        "\n",
        "q5.show()"
      ],
      "metadata": {
        "colab": {
          "base_uri": "https://localhost:8080/"
        },
        "id": "oPDquVp8qDTr",
        "outputId": "cad073f3-ba0b-44a1-cae7-ce000076a721"
      },
      "execution_count": 23,
      "outputs": [
        {
          "output_type": "stream",
          "name": "stdout",
          "text": [
            "+--------------------+----------+\n",
            "|               album|play_count|\n",
            "+--------------------+----------+\n",
            "|       Greatest Hits|     67892|\n",
            "|   The Life Of Pablo|     22311|\n",
            "|                  AM|     14264|\n",
            "|                  xx|     14198|\n",
            "|     An Awesome Wave|     13673|\n",
            "|        Sigh No More|     13556|\n",
            "|Whatever People S...|     12731|\n",
            "|            For Emma|     11995|\n",
            "|          Art Angels|     11694|\n",
            "|                  21|     11576|\n",
            "+--------------------+----------+\n",
            "\n"
          ]
        }
      ]
    },
    {
      "cell_type": "markdown",
      "source": [
        "## **Task 4**\n",
        "Importing Genre Dataset and Merging with Listening Data"
      ],
      "metadata": {
        "id": "yR6xC72ArVfk"
      }
    },
    {
      "cell_type": "code",
      "source": [
        "genre_path = \"/content/drive/MyDrive/dataset/genre.csv\"\n",
        "\n",
        "df_genre = spark.read.csv(genre_path, header=True, inferSchema=True)\n",
        "df_genre.show()\n",
        "df_genre.printSchema()"
      ],
      "metadata": {
        "colab": {
          "base_uri": "https://localhost:8080/"
        },
        "id": "n_KGyaQbrV-2",
        "outputId": "cb60a81d-d6c3-4c7e-dfa3-4890b619e141"
      },
      "execution_count": 24,
      "outputs": [
        {
          "output_type": "stream",
          "name": "stdout",
          "text": [
            "+--------------------+-----+\n",
            "|              artist|genre|\n",
            "+--------------------+-----+\n",
            "|                Muse| rock|\n",
            "|             Nirvana| rock|\n",
            "|            Bon Jovi| rock|\n",
            "|          The Police| rock|\n",
            "|                Kiss| rock|\n",
            "|       Guns N' Roses| rock|\n",
            "|         Rusted Root| rock|\n",
            "|Katrina and the W...|  pop|\n",
            "|         The Beatles| rock|\n",
            "|        Hall & Oates|  pop|\n",
            "|        Otis Redding| soul|\n",
            "|         Marvin Gaye| soul|\n",
            "|     The Cranberries| rock|\n",
            "|            Survivor| rock|\n",
            "|       Fleetwood Mac|blues|\n",
            "|           Radiohead| rock|\n",
            "|                Toto| rock|\n",
            "|                  U2| rock|\n",
            "|Creedence Clearwa...| rock|\n",
            "|                 REM| rock|\n",
            "+--------------------+-----+\n",
            "only showing top 20 rows\n",
            "\n",
            "root\n",
            " |-- artist: string (nullable = true)\n",
            " |-- genre: string (nullable = true)\n",
            "\n"
          ]
        }
      ]
    },
    {
      "cell_type": "markdown",
      "source": [
        "### **Merging Listening Data with Genre Data**\n",
        "\n",
        "Did an inner join between the cleaned listening dataset and the genre dataset on the `artist` column. This merge enriches the listening records with genre information, keeping only artist present in both datasets.\n",
        "\n",
        "The resulting DataFrame contains combined details from both sources, allowing further queries for more detailed analysis by genre.\n"
      ],
      "metadata": {
        "id": "Wge7NtyVr_k4"
      }
    },
    {
      "cell_type": "code",
      "source": [
        "df_merged = df_cleaned.join(df_genre, on=\"artist\", how=\"inner\")\n",
        "df_merged.show()\n",
        "df_merged.printSchema()"
      ],
      "metadata": {
        "colab": {
          "base_uri": "https://localhost:8080/"
        },
        "id": "dRemhmIUr_6p",
        "outputId": "41501f1d-b4e7-4458-8e23-1eaf0177ec9b"
      },
      "execution_count": 25,
      "outputs": [
        {
          "output_type": "stream",
          "name": "stdout",
          "text": [
            "+------------+-----------+--------------------+--------------------+--------------------+\n",
            "|      artist|    user_id|               track|               album|               genre|\n",
            "+------------+-----------+--------------------+--------------------+--------------------+\n",
            "|    Jessie J|000Silenced|           Price Tag|         Who You Are| Ariana Grande & ...|\n",
            "|    Jessie J|000Silenced|           Price Tag|         Who You Are| Jhene Aiko & Rixton|\n",
            "|    Jessie J|000Silenced|           Price Tag|         Who You Are| Nicki Minaj & Ar...|\n",
            "|    Jessie J|000Silenced|           Price Tag|         Who You Are|                 pop|\n",
            "|    Jessie J|000Silenced|Price Tag (Acoust...|           Price Tag| Ariana Grande & ...|\n",
            "|    Jessie J|000Silenced|Price Tag (Acoust...|           Price Tag| Jhene Aiko & Rixton|\n",
            "|    Jessie J|000Silenced|Price Tag (Acoust...|           Price Tag| Nicki Minaj & Ar...|\n",
            "|    Jessie J|000Silenced|Price Tag (Acoust...|           Price Tag|                 pop|\n",
            "|       Robyn|000Silenced|Be Mine! (Ballad ...|            Be Mine!|                 pop|\n",
            "|       Kelis|000Silenced|            Acapella|            Acapella|                 pop|\n",
            "|   The Tease|000Silenced|   I'm Not Invisible|   I'm Not Invisible|             hip hop|\n",
            "|    MSTRKRFT|000Silenced|Bounce (Feat NORE...|         Fist of God|          electronic|\n",
            "|     Rihanna|000Silenced|Don't Stop The Mu...|Addicted 2 Bassli...|                 SZA|\n",
            "|     Rihanna|000Silenced|Don't Stop The Mu...|Addicted 2 Bassli...| Paul McCartney &...|\n",
            "|     Rihanna|000Silenced|Don't Stop The Mu...|Addicted 2 Bassli...|          Kanye West|\n",
            "|     Rihanna|000Silenced|Don't Stop The Mu...|Addicted 2 Bassli...| Kanye West & Pau...|\n",
            "|     Rihanna|000Silenced|Don't Stop The Mu...|Addicted 2 Bassli...|                 pop|\n",
            "|   Meshuggah|000Silenced|               ObZen|               ObZen|               metal|\n",
            "|      Gojira|000Silenced|   Yama's Messengers|The Way of All Flesh|               metal|\n",
            "|Napalm Death|000Silenced|On the Brink of E...|Time Waits For No...|           grindcore|\n",
            "+------------+-----------+--------------------+--------------------+--------------------+\n",
            "only showing top 20 rows\n",
            "\n",
            "root\n",
            " |-- artist: string (nullable = true)\n",
            " |-- user_id: string (nullable = true)\n",
            " |-- track: string (nullable = true)\n",
            " |-- album: string (nullable = true)\n",
            " |-- genre: string (nullable = true)\n",
            "\n"
          ]
        }
      ]
    },
    {
      "cell_type": "markdown",
      "source": [
        "### **Query 6: Top 10 Users Who Are Fans of Pop Music**\n",
        "\n",
        "Filtered the merged dataset for genre \"Pop\", grouped by `user_id`, counted listening events, and retrieved the top 10 users with the highest counts.\n",
        "\n"
      ],
      "metadata": {
        "id": "U1v9ps8ctjAq"
      }
    },
    {
      "cell_type": "code",
      "source": [
        "q6 = df_merged.filter(df_merged.genre == \"pop\") \\\n",
        "                  .groupBy(\"user_id\") \\\n",
        "                  .agg(count(\"*\").alias(\"listening_count\")) \\\n",
        "                  .orderBy(desc(\"listening_count\")) \\\n",
        "                  .limit(10)\n",
        "\n",
        "q6.show()"
      ],
      "metadata": {
        "colab": {
          "base_uri": "https://localhost:8080/"
        },
        "id": "stLKkW_-tjYF",
        "outputId": "eb31a8e6-c107-48ba-8bcc-6e609e593ee2"
      },
      "execution_count": 26,
      "outputs": [
        {
          "output_type": "stream",
          "name": "stdout",
          "text": [
            "+---------------+---------------+\n",
            "|        user_id|listening_count|\n",
            "+---------------+---------------+\n",
            "|        01Green|            496|\n",
            "|      momousagi|            400|\n",
            "|          mrpsb|            400|\n",
            "|   BlueKnockOut|            378|\n",
            "|    musicboy80s|            376|\n",
            "|  incultojurgis|            374|\n",
            "| ElektricOrchid|            370|\n",
            "|foreign_fanatic|            350|\n",
            "|   Kevin_Soutar|            346|\n",
            "|  landrover2171|            301|\n",
            "+---------------+---------------+\n",
            "\n"
          ]
        }
      ]
    },
    {
      "cell_type": "code",
      "source": [
        "from pyspark.sql.functions import trim, lower, col\n",
        "\n",
        "query6 = df_merged.filter(lower(trim(col(\"genre\"))) == \"pop\") \\\n",
        "                  .groupBy(\"user_id\") \\\n",
        "                  .agg(count(\"*\").alias(\"listening_count\")) \\\n",
        "                  .orderBy(desc(\"listening_count\")) \\\n",
        "                  .limit(10)\n",
        "\n",
        "query6.show()"
      ],
      "metadata": {
        "colab": {
          "base_uri": "https://localhost:8080/"
        },
        "id": "Da2siK_nvap9",
        "outputId": "33f8987c-b5fe-47ed-9199-a8d8a7c6e759"
      },
      "execution_count": 27,
      "outputs": [
        {
          "output_type": "stream",
          "name": "stdout",
          "text": [
            "+---------------+---------------+\n",
            "|        user_id|listening_count|\n",
            "+---------------+---------------+\n",
            "|        01Green|            496|\n",
            "|      momousagi|            400|\n",
            "|          mrpsb|            400|\n",
            "|   BlueKnockOut|            378|\n",
            "|    musicboy80s|            376|\n",
            "|  incultojurgis|            374|\n",
            "| ElektricOrchid|            370|\n",
            "|foreign_fanatic|            350|\n",
            "|   Kevin_Soutar|            346|\n",
            "|  landrover2171|            301|\n",
            "+---------------+---------------+\n",
            "\n"
          ]
        }
      ]
    },
    {
      "cell_type": "markdown",
      "source": [
        "### **Query 7: Top 10 Most Popular Genres**\n",
        "\n",
        "Grouped the merged dataset by `genre`, counted total play occurrences, and retrieved the top 10 genres by play count."
      ],
      "metadata": {
        "id": "pezyfbA8tqBG"
      }
    },
    {
      "cell_type": "code",
      "source": [
        "q7 = df_merged.groupBy(\"genre\") \\\n",
        "                  .agg(count(\"*\").alias(\"play_count\")) \\\n",
        "                  .orderBy(desc(\"play_count\")) \\\n",
        "                  .limit(10)\n",
        "\n",
        "q7.show()"
      ],
      "metadata": {
        "colab": {
          "base_uri": "https://localhost:8080/"
        },
        "id": "JFJREjditqVJ",
        "outputId": "6f169ede-4742-46a8-98b1-f82c4459e7dc"
      },
      "execution_count": 28,
      "outputs": [
        {
          "output_type": "stream",
          "name": "stdout",
          "text": [
            "+----------+----------+\n",
            "|     genre|play_count|\n",
            "+----------+----------+\n",
            "|      rock|   2691934|\n",
            "|       pop|   1544747|\n",
            "|electronic|    551509|\n",
            "|   hip hop|    532984|\n",
            "|      folk|    438174|\n",
            "|indie rock|    431439|\n",
            "|      punk|    380915|\n",
            "|       r&b|    344101|\n",
            "|     metal|    208107|\n",
            "|     indie|    206726|\n",
            "+----------+----------+\n",
            "\n"
          ]
        }
      ]
    },
    {
      "cell_type": "markdown",
      "source": [
        "### *Note on Query 6: Filtering by Genre Issue*\n",
        "\n",
        "While running **Query 6** to find the top 10 users who are fans of the \"Pop\" genre, the query returned no results initially.\n",
        "\n",
        "**Cause:** The `genre` column contained leading spaces and inconsistent capitalization (e.g., `\" pop\"` instead of `\"Pop\"`), which caused the exact match filter to fail.\n",
        "\n",
        "**Solution:** Used `trim()` to remove leading/trailing spaces and `lower()` to make filtering case-insensitive:\n",
        "\n",
        "```python\n",
        "from pyspark.sql.functions import trim, lower, col\n",
        "\n",
        "query6 = df_merged.filter(lower(trim(col(\"genre\"))) == \"pop\") \\\n",
        "                  .groupBy(\"user_id\") \\\n",
        "                  .agg(count(\"*\").alias(\"listening_count\")) \\\n",
        "                  .orderBy(desc(\"listening_count\")) \\\n",
        "                  .limit(10)\n",
        "\n",
        "query6.show()"
      ],
      "metadata": {
        "id": "dtWtFfKZwrLn"
      }
    },
    {
      "cell_type": "markdown",
      "source": [
        "## **Task 5: Further Queries and Visualization**\n",
        "\n",
        "This task focuses on applying more advanced queries to extract meaningful insights from the merged dataset and preparing for visualizations. At the end, a graph is plotted using matplotlib to show genre vs artist.\n",
        "\n",
        "---\n",
        "\n",
        "### **Query 8: Determine Each User's Favorite Genre**\n",
        "\n",
        "#### **Query 8.1: Count Listens Per User Per Genre**\n",
        "\n",
        "Grouped the merged data by `user_id` and `genre`, counting the number of listening events for each user-genre pair.\n",
        "\n",
        "#### **Query 8.2: Find Favorite Genre Per User**\n",
        "\n",
        "Using a window function partitioned by `user_id` and ordered by listen count descending, identified the genre with the highest listen count for each user as their favorite.\n",
        "\n",
        "---\n",
        "\n",
        "The resulting DataFrame (`q8_2`) contains each user’s most listened genre along with the corresponding listen count.\n",
        "---\n",
        "**Query 9:** This query filters the genre dataset for selected genres (pop, rock, metal, and hip hop), counts how many artists belong to each genre, and visualizes the result using a bar chart."
      ],
      "metadata": {
        "id": "FiuAY6cKy6u8"
      }
    },
    {
      "cell_type": "code",
      "source": [
        "from pyspark.sql.window import Window\n",
        "from pyspark.sql.functions import count, row_number, desc, col\n",
        "\n",
        "# Query 8.1: Count listens per user per genre\n",
        "q8_1 = df_merged.groupBy(\"user_id\", \"genre\") \\\n",
        "                .agg(count(\"*\").alias(\"listen_count\")) \\\n",
        "                .orderBy(\"user_id\")\n",
        "q8_1.show()"
      ],
      "metadata": {
        "colab": {
          "base_uri": "https://localhost:8080/"
        },
        "id": "zvMwalijy9eO",
        "outputId": "19446595-8d6d-4727-836d-1e8c068c6f5a"
      },
      "execution_count": 39,
      "outputs": [
        {
          "output_type": "stream",
          "name": "stdout",
          "text": [
            "+-------+--------------------+------------+\n",
            "|user_id|               genre|listen_count|\n",
            "+-------+--------------------+------------+\n",
            "| --Seph| Boston Pops Orch...|           1|\n",
            "| --Seph|               Bjorn|           8|\n",
            "| --Seph|                 pop|           9|\n",
            "| --Seph| brazilian pop music|           1|\n",
            "| --Seph|          Nils Frahm|           1|\n",
            "| --Seph| Snoop Dogg & Dev...|           4|\n",
            "| --Seph|               dance|           1|\n",
            "| --Seph|        instrumental|           1|\n",
            "| --Seph|  progressive trance|           1|\n",
            "| --Seph|   Vladimir Spivakov|           1|\n",
            "| --Seph|          Thom Yorke|           2|\n",
            "| --Seph|               samba|           2|\n",
            "| --Seph|               Ruben|           4|\n",
            "| --Seph|             ambient|           6|\n",
            "| --Seph|           classical|          31|\n",
            "| --Seph| Sara Mingardo & ...|           1|\n",
            "| --Seph|               indie|           3|\n",
            "| --Seph|             baroque|           1|\n",
            "| --Seph|         heavy metal|           1|\n",
            "| --Seph|     Hilko Schomerus|           1|\n",
            "+-------+--------------------+------------+\n",
            "only showing top 20 rows\n",
            "\n"
          ]
        }
      ]
    },
    {
      "cell_type": "code",
      "source": [
        "q8_2 = q8_1.groupBy(\"user_id\") \\\n",
        "           .agg(max(struct(col(\"listen_count\"), col(\"genre\"))).alias(\"max_genre\")) \\\n",
        "           .select(\n",
        "               col(\"user_id\"),\n",
        "               col(\"max_genre.genre\")\n",
        "           )\n",
        "q8_2.show()"
      ],
      "metadata": {
        "colab": {
          "base_uri": "https://localhost:8080/"
        },
        "id": "3AdgSoDA56fQ",
        "outputId": "8d47f9ae-14c5-49f6-e037-530cea8c64dc"
      },
      "execution_count": 40,
      "outputs": [
        {
          "output_type": "stream",
          "name": "stdout",
          "text": [
            "+---------------+-----------+\n",
            "|        user_id|      genre|\n",
            "+---------------+-----------+\n",
            "|      --Shinn--|       rock|\n",
            "|       --ollz--|       rock|\n",
            "|     -Amnesiac-|      metal|\n",
            "|         -Bish-|       rock|\n",
            "|        -Danni-|       rock|\n",
            "|          -DeWp|    hip hop|\n",
            "|      -Faction-|       rock|\n",
            "|-February-Star-|       rock|\n",
            "|        -Gemma-|british pop|\n",
            "|   -Gingergirl-|        pop|\n",
            "|        -Hazel-|   synthpop|\n",
            "|        -Heiko-| electronic|\n",
            "|         -Katie|      lo-fi|\n",
            "|      -Krystal-|       rock|\n",
            "|         -Mark-| indie rock|\n",
            "|       -Mullet-|  metalcore|\n",
            "|          -Robs|       rock|\n",
            "| -SleepingStar-|black metal|\n",
            "|      -Stifler-|       rock|\n",
            "|  -Toxic-Waste-|  aggrotech|\n",
            "+---------------+-----------+\n",
            "only showing top 20 rows\n",
            "\n"
          ]
        }
      ]
    },
    {
      "cell_type": "markdown",
      "source": [
        "Struct Method:"
      ],
      "metadata": {
        "id": "-rQlG0Z-EnmJ"
      }
    },
    {
      "cell_type": "code",
      "source": [
        "q8_2 = q8_1.groupBy(\"user_id\") \\\n",
        "           .agg(max(struct(col(\"listen_count\"), col(\"genre\"))).alias(\"max_genre\")) \\\n",
        "           .select(\n",
        "               col(\"user_id\"),\n",
        "               col(\"max_genre.genre\").alias(\"favorite_genre\"),\n",
        "               col(\"max_genre.listen_count\").alias(\"listen_count\")\n",
        "           )\n",
        "q8_2.show()"
      ],
      "metadata": {
        "colab": {
          "base_uri": "https://localhost:8080/"
        },
        "id": "7nyfTCQt8Iky",
        "outputId": "281fcaaa-a89b-449a-93da-c13f6791c864"
      },
      "execution_count": 41,
      "outputs": [
        {
          "output_type": "stream",
          "name": "stdout",
          "text": [
            "+---------------+--------------+------------+\n",
            "|        user_id|favorite_genre|listen_count|\n",
            "+---------------+--------------+------------+\n",
            "|      --Shinn--|          rock|         112|\n",
            "|       --ollz--|          rock|          47|\n",
            "|     -Amnesiac-|         metal|         323|\n",
            "|         -Bish-|          rock|          59|\n",
            "|        -Danni-|          rock|          45|\n",
            "|          -DeWp|       hip hop|          82|\n",
            "|      -Faction-|          rock|          56|\n",
            "|-February-Star-|          rock|          74|\n",
            "|        -Gemma-|   british pop|          38|\n",
            "|   -Gingergirl-|           pop|          28|\n",
            "|        -Hazel-|      synthpop|          14|\n",
            "|        -Heiko-|    electronic|          43|\n",
            "|         -Katie|         lo-fi|          58|\n",
            "|      -Krystal-|          rock|          87|\n",
            "|         -Mark-|    indie rock|          37|\n",
            "|       -Mullet-|     metalcore|          60|\n",
            "|          -Robs|          rock|          38|\n",
            "| -SleepingStar-|   black metal|          57|\n",
            "|      -Stifler-|          rock|         144|\n",
            "|  -Toxic-Waste-|     aggrotech|          55|\n",
            "+---------------+--------------+------------+\n",
            "only showing top 20 rows\n",
            "\n"
          ]
        }
      ]
    },
    {
      "cell_type": "markdown",
      "source": [
        "Using Window Method:"
      ],
      "metadata": {
        "id": "n1tjRNKxEqaD"
      }
    },
    {
      "cell_type": "code",
      "source": [
        "window_spec = Window.partitionBy(\"user_id\").orderBy(desc(\"listen_count\"))\n",
        "q8_2 = q8_1.withColumn(\"rank\", row_number().over(window_spec)) \\\n",
        "           .filter(col(\"rank\") == 1) \\\n",
        "           .select(\"user_id\", \"genre\", \"listen_count\")\n",
        "q8_2.show()"
      ],
      "metadata": {
        "colab": {
          "base_uri": "https://localhost:8080/"
        },
        "id": "9WX3GVwD8exB",
        "outputId": "db026627-2187-45bf-b870-4b977e49bcb1"
      },
      "execution_count": 42,
      "outputs": [
        {
          "output_type": "stream",
          "name": "stdout",
          "text": [
            "+---------------+-------------+------------+\n",
            "|        user_id|        genre|listen_count|\n",
            "+---------------+-------------+------------+\n",
            "|         --Seph|    classical|          31|\n",
            "|      --Shinn--|         rock|         112|\n",
            "|   --ladyluck--|   soundtrack|          24|\n",
            "|      --mopsi--|   electronic|          26|\n",
            "|       --ollz--|         rock|          47|\n",
            "|       --tomB--|         rock|          33|\n",
            "|     -Amnesiac-|        metal|         323|\n",
            "|         -Bald-|    indie pop|          44|\n",
            "|       -Barney-|   doom metal|          45|\n",
            "|        -Bevan-|drum and bass|           4|\n",
            "|         -Bish-|         rock|          59|\n",
            "|        -Danni-|         rock|          45|\n",
            "|          -DeWp|      hip hop|          82|\n",
            "|    -Destructo-|         rock|          72|\n",
            "|      -Faction-|         rock|          56|\n",
            "|-February-Star-|         rock|          74|\n",
            "|        -Gemma-|  british pop|          38|\n",
            "|   -Gingergirl-|          pop|          28|\n",
            "|        -Hazel-|     synthpop|          14|\n",
            "|        -Heiko-|   electronic|          43|\n",
            "+---------------+-------------+------------+\n",
            "only showing top 20 rows\n",
            "\n"
          ]
        }
      ]
    },
    {
      "cell_type": "markdown",
      "source": [],
      "metadata": {
        "id": "Hn-wrTFuAvpL"
      }
    },
    {
      "cell_type": "markdown",
      "source": [
        "### Why Do the Two Methods Give Different Results?\n",
        "\n",
        "Both methods correctly find each user’s favorite genre based on listening counts. The difference in results comes from how they handle ties when a user listens to multiple genres the same number of times.\n",
        "\n",
        "- Window Function Method (row_number()):\n",
        "Assigns a unique rank to each genre per user ordered by listen count.\n",
        "If there is a tie, it picks one genre arbitrarily based on internal row order, which may seem random.\n",
        "\n",
        "- Struct + Max Aggregation Method:\n",
        "Uses alphabetical order of genre names as a tiebreaker when listen counts are equal, resulting in consistent, deterministic output."
      ],
      "metadata": {
        "id": "VWAW1HwyERlg"
      }
    },
    {
      "cell_type": "markdown",
      "source": [
        "### Explanation of Methods Used in Query 8.2\n",
        "\n",
        "In Query 8.2, two methods were used to find each user’s favorite genre:\n",
        "\n",
        "1. **Window Function Method**  \n",
        "   Ranks genres per user by listen count using `row_number()`.  \n",
        "   Picks the top-ranked genre as the favorite. Ties are resolved arbitrarily.\n",
        "\n",
        "2. **Struct and Max Aggregation Method**  \n",
        "   Combines listen count and genre into a struct.  \n",
        "   Uses `max()` to select the genre with the highest count, breaking ties alphabetically by genre name.  \n",
        "   This method is deterministic and consistent.\n",
        "\n",
        "Both methods correctly identify favorite genres; differences arise only in how ties are handled.\n"
      ],
      "metadata": {
        "id": "o9vbdjV0Eugx"
      }
    },
    {
      "cell_type": "markdown",
      "source": [
        "### **Query 9: Count of Artists in Selected Genres**\n",
        "\n",
        "This query filters the genre dataset for selected genres (pop, rock, metal, and hip hop), counts how many artists belong to each genre, and visualizes the result using a bar chart.\n"
      ],
      "metadata": {
        "id": "N6el0S7iXGMm"
      }
    },
    {
      "cell_type": "code",
      "source": [
        "from pyspark.sql.functions import lower, trim, col\n",
        "\n",
        "# Filter for selected genres\n",
        "selected_genres = [\"pop\", \"rock\", \"metal\", \"hip hop\"]\n",
        "\n",
        "q9 = df_genre.filter(lower(trim(col(\"genre\"))).isin(selected_genres)) \\\n",
        "             .groupBy(\"genre\") \\\n",
        "             .agg(count(\"artist\").alias(\"artist_count\")) \\\n",
        "             .orderBy(\"genre\")\n",
        "\n",
        "q9.show()"
      ],
      "metadata": {
        "colab": {
          "base_uri": "https://localhost:8080/"
        },
        "id": "XbDkguTvFJOL",
        "outputId": "907dd2cf-7e47-4c1f-8ade-b4f54cf53697"
      },
      "execution_count": 43,
      "outputs": [
        {
          "output_type": "stream",
          "name": "stdout",
          "text": [
            "+-------+------------+\n",
            "|  genre|artist_count|\n",
            "+-------+------------+\n",
            "|hip hop|        4288|\n",
            "|  metal|        1854|\n",
            "|    pop|        6960|\n",
            "|   rock|        9066|\n",
            "+-------+------------+\n",
            "\n"
          ]
        }
      ]
    },
    {
      "cell_type": "code",
      "source": [
        "# Step 2: Convert to Pandas & Plot Bar Chart\n",
        "## Convert to Pandas for plotting\n",
        "q9_pd = q9.toPandas()\n",
        "\n",
        "## Plot\n",
        "plt.figure(figsize=(8, 5))\n",
        "plt.bar(q9_pd[\"genre\"], q9_pd[\"artist_count\"], color=\"skyblue\")\n",
        "plt.xlabel(\"Genre\")\n",
        "plt.ylabel(\"Number of Artists\")\n",
        "plt.title(\"Number of Artists by Genre\")\n",
        "plt.grid(axis='y', linestyle='--', alpha=0.7)\n",
        "plt.tight_layout()\n",
        "plt.show()"
      ],
      "metadata": {
        "colab": {
          "base_uri": "https://localhost:8080/",
          "height": 507
        },
        "id": "B9PJLkHlXtxy",
        "outputId": "3ad3564d-4b19-46bf-b24c-44433876b252"
      },
      "execution_count": 44,
      "outputs": [
        {
          "output_type": "display_data",
          "data": {
            "text/plain": [
              "<Figure size 800x500 with 1 Axes>"
            ],
            "image/png": "[encoded data removed]"
          },
          "metadata": {}
        }
      ]
    }
  ]
}